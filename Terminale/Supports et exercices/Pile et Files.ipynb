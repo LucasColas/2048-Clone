{
  "nbformat": 4,
  "nbformat_minor": 0,
  "metadata": {
    "colab": {
      "provenance": [],
      "authorship_tag": "ABX9TyMaY6b8F8EHr9rgUzJMWu4n",
      "include_colab_link": true
    },
    "kernelspec": {
      "name": "python3",
      "display_name": "Python 3"
    },
    "language_info": {
      "name": "python"
    }
  },
  "cells": [
    {
      "cell_type": "markdown",
      "metadata": {
        "id": "view-in-github",
        "colab_type": "text"
      },
      "source": [
        "<a href=\"https://colab.research.google.com/github/LucasColas/2048-Clone/blob/main/Terminale/Supports%20et%20exercices/Pile%20et%20Files.ipynb\" target=\"_parent\"><img src=\"https://colab.research.google.com/assets/colab-badge.svg\" alt=\"Open In Colab\"/></a>"
      ]
    },
    {
      "cell_type": "markdown",
      "source": [
        "# Les Piles et les Files\n"
      ],
      "metadata": {
        "id": "kp35MuX9BV6m"
      }
    },
    {
      "cell_type": "markdown",
      "source": [
        "Les piles et les files sont des structures de données qui permettent de stocker des données."
      ],
      "metadata": {
        "id": "O5pXONYyBiy8"
      }
    },
    {
      "cell_type": "markdown",
      "source": [
        "## Les Piles"
      ],
      "metadata": {
        "id": "FsKO9F2gBYrf"
      }
    },
    {
      "cell_type": "markdown",
      "source": [
        "### Définition\n",
        "\n",
        "Une pile est une structure de donnée dite \"LIFO\" (last in, first out) ce qui signifie que le dernier élément ajouté est le premier élément retiré.\n",
        "La pile est à visualiser comme une pile d'objets dans la réalité. On empile des éléments et le premier élément retiré est le dernier élément ajouté (qui a été ajouté en haut de la pile).\n",
        "\n",
        "Opérations de base sur les piles :\n",
        "* vérifier si une pile est vide ==> pile qui n'a aucun élément\n",
        "* ajouter un élément ou empiler un élément ==> on rajoute un élément sur le sommet de la pile\n",
        "* retirer un élément ou dépiler un élément ==> on retire l'élément du haut de la pile et on le stocke dans une variable.\n",
        "\n"
      ],
      "metadata": {
        "id": "_0UZwV0UBnQt"
      }
    },
    {
      "cell_type": "markdown",
      "source": [
        "### Implémentation en Python\n",
        "\n",
        "En Python les piles seront représentées par les listes.\n",
        "On supposera que le sommet de la pile correspond à la fin de la liste.\n",
        "Donc l'élément en fin de liste sera l'élément au sommet de la pile.\n",
        "\n",
        "Exemple :"
      ],
      "metadata": {
        "id": "28LFxmrcCebW"
      }
    },
    {
      "cell_type": "code",
      "execution_count": null,
      "metadata": {
        "id": "hotlMjbfBTPv"
      },
      "outputs": [],
      "source": [
        "Pile11 = [1,2,3,4] #L'élément au sommet de la pile est ici 4. Si on dépile, l'élément qui est enlevé est le 4."
      ]
    },
    {
      "cell_type": "markdown",
      "source": [
        "#### Création d'une pile"
      ],
      "metadata": {
        "id": "3YxXQaGkEF49"
      }
    },
    {
      "cell_type": "markdown",
      "source": [
        "Il s'agit tout simplement de faire une liste.\n",
        "Créer une pile vide basée sur la liste."
      ],
      "metadata": {
        "id": "yMT3LiLTEJFL"
      }
    },
    {
      "cell_type": "code",
      "source": [
        "Pile1 = []"
      ],
      "metadata": {
        "id": "chTk9VBxEHmr"
      },
      "execution_count": null,
      "outputs": []
    },
    {
      "cell_type": "markdown",
      "source": [
        "#### Empiler"
      ],
      "metadata": {
        "id": "TnIN66uuEOaS"
      }
    },
    {
      "cell_type": "markdown",
      "source": [
        "Pour obtenir la fonction empiler il suffit juste d'utiliser la méthode append.\n",
        "Ajouter 4 à la pile crée précédemment.\n",
        "Afficher la pile."
      ],
      "metadata": {
        "id": "BgSovSf9ETli"
      }
    },
    {
      "cell_type": "code",
      "source": [
        "Pile1.append(4)\n",
        "print(\"Pile : \", Pile1)"
      ],
      "metadata": {
        "id": "VPnTCP_5EONl",
        "colab": {
          "base_uri": "https://localhost:8080/"
        },
        "outputId": "79b6302d-3314-466d-baa6-2dc5bc75daac"
      },
      "execution_count": null,
      "outputs": [
        {
          "output_type": "stream",
          "name": "stdout",
          "text": [
            "Pile :  [4]\n"
          ]
        }
      ]
    },
    {
      "cell_type": "markdown",
      "source": [
        "#### Dépiler\n",
        "\n",
        "\n",
        "Pour dépiler un élément il s'agit de retirer le dernier élément de la liste.\n",
        "Il suffit donc d'appeler la méthode pop.\n",
        "Dépiler la pile.\n"
      ],
      "metadata": {
        "id": "UUBCUuTIE26B"
      }
    },
    {
      "cell_type": "code",
      "source": [
        "element = Pile1.pop()\n",
        "print(\"élément \", element)\n",
        "print(\"Pile 1 : \", Pile1)"
      ],
      "metadata": {
        "id": "7kre4R-DFxN3",
        "colab": {
          "base_uri": "https://localhost:8080/"
        },
        "outputId": "9c8022a2-9ab1-4f97-ddef-ba4a17d30a3b"
      },
      "execution_count": null,
      "outputs": [
        {
          "output_type": "stream",
          "name": "stdout",
          "text": [
            "élément  4\n",
            "Pile 1 :  []\n"
          ]
        }
      ]
    },
    {
      "cell_type": "markdown",
      "source": [
        "#### Pile vide\n",
        "Pour vérifier qu'une pile est vide il suffit d'utiliser une fonction bien connue en Python.\n",
        "\n",
        "Créer une fonction is_empty(pile) qui vérifie si la pile passée en paramètre est vide ou non. La fonction renvoie True ou False."
      ],
      "metadata": {
        "id": "rq_Tz11hFxpR"
      }
    },
    {
      "cell_type": "code",
      "source": [
        "def is_empty(pile):\n",
        "  return len(pile) == 0"
      ],
      "metadata": {
        "id": "kLWfUz0vF4Ab"
      },
      "execution_count": null,
      "outputs": []
    },
    {
      "cell_type": "code",
      "source": [
        "is_empty(Pile1)"
      ],
      "metadata": {
        "colab": {
          "base_uri": "https://localhost:8080/"
        },
        "id": "X5u3mQ8Ei29S",
        "outputId": "ed19d386-6110-4a55-f34d-f3ac5a393e0f"
      },
      "execution_count": null,
      "outputs": [
        {
          "output_type": "execute_result",
          "data": {
            "text/plain": [
              "True"
            ]
          },
          "metadata": {},
          "execution_count": 9
        }
      ]
    },
    {
      "cell_type": "markdown",
      "source": [
        "## Les Files\n",
        "\n",
        "Les files sont une autre structure de données. Elles sont de types FIFO (First in, first out) : le premier élément ajouté est le premier élément retiré.\n",
        "Il faut les imaginer comme une file d'attente où la première personne arrivée est la première personne servie.\n",
        "\n",
        "Opérations de bases sur les files :\n",
        "* vérifier si une file est vide ==> file qui n'a aucun élément\n",
        "* ajouter un élément ou enfiler\n",
        "* défiler ==> retirer l'élément le plus ancien"
      ],
      "metadata": {
        "id": "raW_096YJNcu"
      }
    },
    {
      "cell_type": "markdown",
      "source": [
        "### Implémentation en Python\n",
        "\n",
        "En Python les files seront représentées par les listes.\n",
        "On supposera que le début de la liste contient le premier élément de la file.\n",
        "\n",
        "Exemple :"
      ],
      "metadata": {
        "id": "M7b5DE8CJjuY"
      }
    },
    {
      "cell_type": "code",
      "execution_count": null,
      "metadata": {
        "id": "2gU4OMhJJjub"
      },
      "outputs": [],
      "source": [
        "F1 = [1,2,3,4] #L'élément au début de la file est ici 1. Si on défile, l'élément qui est enlevé est le 1."
      ]
    },
    {
      "cell_type": "markdown",
      "source": [
        "#### Création d'une file"
      ],
      "metadata": {
        "id": "TVm04I-sJjud"
      }
    },
    {
      "cell_type": "markdown",
      "source": [
        "Il s'agit tout simplement de faire une liste.\n",
        "Créer une file vide basée sur la liste."
      ],
      "metadata": {
        "id": "NZUp9iMPJjue"
      }
    },
    {
      "cell_type": "code",
      "source": [
        "File = []"
      ],
      "metadata": {
        "id": "B2i4amCaJjuf"
      },
      "execution_count": null,
      "outputs": []
    },
    {
      "cell_type": "markdown",
      "source": [
        "#### Enfiler"
      ],
      "metadata": {
        "id": "58-PvyQdJjuj"
      }
    },
    {
      "cell_type": "markdown",
      "source": [
        "Pour obtenir la fonction enfiler il suffit juste d'utiliser la méthode append.\n",
        "Ajouter 4 à la file crée précédemment, puis 7 et et 42.\n",
        "Afficher la file."
      ],
      "metadata": {
        "id": "c0ZgRw3hJjuk"
      }
    },
    {
      "cell_type": "code",
      "source": [
        "File.append(4)\n",
        "File.append(7)\n",
        "File.append(42)"
      ],
      "metadata": {
        "id": "Jmx71VRjJjul"
      },
      "execution_count": null,
      "outputs": []
    },
    {
      "cell_type": "code",
      "source": [
        "print(File)"
      ],
      "metadata": {
        "colab": {
          "base_uri": "https://localhost:8080/"
        },
        "id": "V79b3yafjCWx",
        "outputId": "2052631b-22a2-4445-a731-473b3a0d2483"
      },
      "execution_count": null,
      "outputs": [
        {
          "output_type": "stream",
          "name": "stdout",
          "text": [
            "[4, 7, 42]\n"
          ]
        }
      ]
    },
    {
      "cell_type": "markdown",
      "source": [
        "#### Défiler\n",
        "\n",
        "\n",
        "Pour défiler un élément il s'agit de retirer l'élément le plus ancien de la liste.\n",
        "Utiliser la methode pop en précisant l'index en paramètre.\n",
        "Défiler la file.\n",
        "Afficher la nouvelle file.\n"
      ],
      "metadata": {
        "id": "PHYul1ovJjun"
      }
    },
    {
      "cell_type": "code",
      "source": [
        "element = File.pop(0)\n",
        "print(\"element : \", element)\n",
        "print(\"File : \", File)"
      ],
      "metadata": {
        "id": "6UhCPQagJjuo",
        "colab": {
          "base_uri": "https://localhost:8080/"
        },
        "outputId": "a5be62d5-6d21-45b4-c8dd-c764d1bdfe3e"
      },
      "execution_count": null,
      "outputs": [
        {
          "output_type": "stream",
          "name": "stdout",
          "text": [
            "element :  4\n",
            "File :  [7, 42]\n"
          ]
        }
      ]
    },
    {
      "cell_type": "markdown",
      "source": [
        "#### File vide\n",
        "Pour vérifier qu'une pile est vide il suffit d'utiliser une fonction bien connue en Python.\n",
        "\n",
        "Créer une fonction is_empty(file) qui vérifie si la file passée en paramètre est vide ou non. La fonction renvoie True ou False."
      ],
      "metadata": {
        "id": "Xtn03STzJjup"
      }
    },
    {
      "cell_type": "code",
      "source": [
        "def is_empty(file):\n",
        "  return len(file) == 0"
      ],
      "metadata": {
        "id": "siCYKAX5Jjuq"
      },
      "execution_count": null,
      "outputs": []
    },
    {
      "cell_type": "markdown",
      "source": [
        "## Entrainement Piles et Files"
      ],
      "metadata": {
        "id": "WH1vdoevMHP7"
      }
    },
    {
      "cell_type": "markdown",
      "source": [
        "### Piles\n"
      ],
      "metadata": {
        "id": "57SSc84BOCXL"
      }
    },
    {
      "cell_type": "markdown",
      "source": [
        "#### Exercice piles\n"
      ],
      "metadata": {
        "id": "9vcdce1xOGdz"
      }
    },
    {
      "cell_type": "markdown",
      "source": [
        "##### Exercice 0 : écrire une fonction qui permet de dépiler complètement une pile passée en paramètre."
      ],
      "metadata": {
        "id": "5Y1N1XFRSy8q"
      }
    },
    {
      "cell_type": "code",
      "source": [
        "def depilation_complete(pile):\n",
        "  while len(pile) > 0:\n",
        "    element = pile.pop()\n",
        "    print(\"element\", element)\n",
        "    print(\"nouvelle pile : \", pile)\n",
        "\n",
        "  print(\"pile complètement dépilé\")"
      ],
      "metadata": {
        "id": "xjHgQa9-TIFT"
      },
      "execution_count": null,
      "outputs": []
    },
    {
      "cell_type": "code",
      "source": [
        "depilation_complete([1,3,5,7,9])"
      ],
      "metadata": {
        "colab": {
          "base_uri": "https://localhost:8080/"
        },
        "id": "AtEfqFnNkYVZ",
        "outputId": "b2ad26b6-7449-45cf-89c6-8ebf7104be79"
      },
      "execution_count": null,
      "outputs": [
        {
          "output_type": "stream",
          "name": "stdout",
          "text": [
            "element 9\n",
            "nouvelle pile :  [1, 3, 5, 7]\n",
            "element 7\n",
            "nouvelle pile :  [1, 3, 5]\n",
            "element 5\n",
            "nouvelle pile :  [1, 3]\n",
            "element 3\n",
            "nouvelle pile :  [1]\n",
            "element 1\n",
            "nouvelle pile :  []\n",
            "pile complètement dépilé\n"
          ]
        }
      ]
    },
    {
      "cell_type": "markdown",
      "source": [
        "##### Exercice 1 : Inversion d'une liste avec une pile\n",
        "\n",
        "Objectif : L'objectif de cet exercice est de créer une fonction en Python qui inverse l'ordre des éléments dans une liste en utilisant une pile.\n",
        "\n",
        "Instructions :\n",
        "\n",
        "  * Définir une fonction inverser_liste(liste) qui prend en paramètre une liste d'éléments.\n",
        "\n",
        "* À l'intérieur de la fonction, créer une pile (utilisez simplement une liste pour cela) pour stocker temporairement les éléments de la liste.\n",
        "\n",
        "* Parcourir la liste d'origine et empilez chaque élément dans la pile.\n",
        "\n",
        "* Ensuite, créer une liste vide liste_inverse qui servira à stocker les éléments dans l'ordre inverse.\n",
        "\n",
        "* À l'aide d'une boucle, dépiler les éléments de la pile un par un et les ajouter à la liste liste_inverse.\n",
        "\n",
        "* Finalement, renvoyer la liste liste_inverse.\n",
        "\n",
        "exemple :\n",
        "\n",
        "ma_liste = [1, 2, 3, 4, 5]\n",
        "\n",
        "liste_inverse = inverser_liste(ma_liste)\n",
        "\n",
        "print(\"Liste initiale :\", ma_liste)\n",
        "\n",
        "print(\"Liste inversée :\", liste_inverse)\n",
        "\n",
        "Résultat attendu :\n",
        "\n",
        "Liste initiale : [1, 2, 3, 4, 5]\n",
        "\n",
        "Liste inversée : [5, 4, 3, 2, 1]\n"
      ],
      "metadata": {
        "id": "K_70OqJmOIwl"
      }
    },
    {
      "cell_type": "code",
      "source": [
        "def inverser_liste(liste):\n",
        "    pile = []\n",
        "    for element in liste:\n",
        "        pile.append(element)\n",
        "\n",
        "    liste_inverse = []\n",
        "    while pile:\n",
        "        liste_inverse.append(pile.pop())\n",
        "\n",
        "    return liste_inverse\n",
        "\n",
        "# Test de la fonction\n",
        "ma_liste = [1, 2, 3, 4, 5]\n",
        "liste_inverse = inverser_liste(ma_liste)\n",
        "print(\"Liste initiale :\", ma_liste)\n",
        "print(\"Liste inversée :\", liste_inverse)\n"
      ],
      "metadata": {
        "id": "tqECmepNOEcP",
        "colab": {
          "base_uri": "https://localhost:8080/"
        },
        "outputId": "80a5ea82-22e9-4c36-ba77-914143873292"
      },
      "execution_count": null,
      "outputs": [
        {
          "output_type": "stream",
          "name": "stdout",
          "text": [
            "Liste initiale : [1, 2, 3, 4, 5]\n",
            "Liste inversée : [5, 4, 3, 2, 1]\n"
          ]
        }
      ]
    },
    {
      "cell_type": "markdown",
      "source": [
        "##### Exercice 2 : Vérification de l'équilibre des parenthèses dans une expression\n",
        "Objectif : L'objectif de cet exercice est de créer une fonction, **est_equilibree**, en Python qui vérifie si une expression mathématique contenant des parenthèses est correctement équilibrée.\n",
        "Cette fonction utilisera une pile pour suivre les parenthèses ouvrantes et les retirer lorsque des parenthèses fermantes sont rencontrées.\n",
        "\n",
        "Exemples :"
      ],
      "metadata": {
        "id": "180tk1FEQLoz"
      }
    },
    {
      "cell_type": "code",
      "source": [
        "expression1 = \"((2 + 3) * (4 - 1))\"\n",
        "expression2 = \"())(\"\n",
        "expression3 = \"()\"\n",
        "\n",
        "print(\"Expression 1 équilibrée :\", est_equilibree(expression1))  # True\n",
        "print(\"Expression 2 équilibrée :\", est_equilibree(expression2))  # False\n",
        "print(\"Expression 3 équilibrée :\", est_equilibree(expression3))  # True"
      ],
      "metadata": {
        "id": "NxAQvowWQTwu"
      },
      "execution_count": null,
      "outputs": []
    },
    {
      "cell_type": "code",
      "source": [
        "def est_equilibree(expression):\n",
        "    pile = []\n",
        "\n",
        "    for caractere in expression:\n",
        "        if caractere == '(':\n",
        "            pile.append(caractere)\n",
        "        elif caractere == ')':\n",
        "            if not pile: #Vérifie si la pile est vide\n",
        "                return False\n",
        "            pile.pop()\n",
        "\n",
        "    return not pile"
      ],
      "metadata": {
        "id": "9aatmZ16kegw"
      },
      "execution_count": 1,
      "outputs": []
    },
    {
      "cell_type": "code",
      "source": [
        "expression1 = \"((2 + 3) * (4 - 1))\"\n",
        "expression2 = \"())(\"\n",
        "expression3 = \"()\"\n",
        "\n",
        "print(\"Expression 1 équilibrée :\", est_equilibree(expression1))  # True\n",
        "print(\"Expression 2 équilibrée :\", est_equilibree(expression2))  # False\n",
        "print(\"Expression 3 équilibrée :\", est_equilibree(expression3))  # True"
      ],
      "metadata": {
        "colab": {
          "base_uri": "https://localhost:8080/"
        },
        "id": "wX0egEVJkfc9",
        "outputId": "08fe2368-db31-47b6-911d-1fda0701ecab"
      },
      "execution_count": 3,
      "outputs": [
        {
          "output_type": "stream",
          "name": "stdout",
          "text": [
            "Expression 1 équilibrée : True\n",
            "Expression 2 équilibrée : False\n",
            "Expression 3 équilibrée : True\n"
          ]
        }
      ]
    },
    {
      "cell_type": "markdown",
      "source": [
        "#### Files"
      ],
      "metadata": {
        "id": "RoGYfC-nRs8d"
      }
    },
    {
      "cell_type": "markdown",
      "source": [
        "##### Exercice 0 : écrire une fonction qui permet de défiler complètement une file passée en paramètre."
      ],
      "metadata": {
        "id": "mhadRzjoRufc"
      }
    },
    {
      "cell_type": "code",
      "source": [
        "def defiler(file):\n",
        "  while file:\n",
        "    print(file.pop(0))\n",
        "\n",
        ""
      ],
      "metadata": {
        "id": "CM_I0t7GTzPA"
      },
      "execution_count": 4,
      "outputs": []
    },
    {
      "cell_type": "code",
      "source": [
        "defiler([1,4,5,8])"
      ],
      "metadata": {
        "colab": {
          "base_uri": "https://localhost:8080/"
        },
        "id": "xNM0VeuqvzO3",
        "outputId": "12abc7a1-7b0e-43b4-c7d1-d248d7a33608"
      },
      "execution_count": 5,
      "outputs": [
        {
          "output_type": "stream",
          "name": "stdout",
          "text": [
            "1\n",
            "4\n",
            "5\n",
            "8\n"
          ]
        }
      ]
    },
    {
      "cell_type": "markdown",
      "source": [
        "##### Exercice 1 :"
      ],
      "metadata": {
        "id": "nJjrtSjTTRLF"
      }
    },
    {
      "cell_type": "markdown",
      "source": [
        "Soit une file. Faire une fonction qui permet de compter le nombre d'occurences d'un élément dans une file. L'élément et la file seront passées en paramètre.\n",
        "Pour compter les occurences il faudra penser qu'on utilise une file. Donc il faut défiler pour obtenir un élément.\n",
        "A la fin de la fonction la file devra être reconstituée comme avant."
      ],
      "metadata": {
        "id": "O7vCKaNUTzqs"
      }
    },
    {
      "cell_type": "code",
      "source": [],
      "metadata": {
        "id": "pwLlIrLqTzaz"
      },
      "execution_count": null,
      "outputs": []
    }
  ]
}